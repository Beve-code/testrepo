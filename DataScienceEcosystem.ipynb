{
 "cells": [
  {
   "cell_type": "markdown",
   "id": "5606c7c0",
   "metadata": {},
   "source": [
    "# Data Science Tools and Ecosystem"
   ]
  },
  {
   "cell_type": "markdown",
   "id": "c8e3bb24",
   "metadata": {},
   "source": [
    "In this notebook, Data Science Tools and Ecosystem are summarized."
   ]
  },
  {
   "cell_type": "markdown",
   "id": "c01b31b1",
   "metadata": {},
   "source": [
    "**OBJECTIVES**\n",
    "* to list popular languages used by data scientists in python\n",
    "* to list commonly used libraries \n",
    "* to create tables using markdowns\n",
    "* to perform basic arithmetic calculations using python\n",
    "* to use different font sizes for headings\n",
    "* to bolden text in markdown"
   ]
  },
  {
   "cell_type": "markdown",
   "id": "9b74029f",
   "metadata": {},
   "source": [
    "Some of the popular languages that Data Scientists use are: \n",
    "1. Python\n",
    "2. Java\n",
    "3. R"
   ]
  },
  {
   "cell_type": "markdown",
   "id": "11f32762",
   "metadata": {},
   "source": [
    "Some of the commonly used libraries used by Data Scientists include:\n",
    "1. NUMPY\n",
    "2. PANDAS\n",
    "3. TENSORFLOW\n",
    "4. SCIKIT LEARN\n",
    "5. MATPLOTLIB"
   ]
  },
  {
   "cell_type": "markdown",
   "id": "41111f87",
   "metadata": {},
   "source": [
    "\n",
    "| Data Science Tools|\n",
    "| ---- ------- ----- |\n",
    "| Jupyter Notebook  |\n",
    "| R Studio  |\n",
    "| Watson Studio  |"
   ]
  },
  {
   "cell_type": "markdown",
   "id": "4ee87d38",
   "metadata": {},
   "source": [
    "### Below are a few examples of evaluating arithmetic expression in PYTHON"
   ]
  },
  {
   "cell_type": "code",
   "execution_count": 5,
   "id": "00d311c1",
   "metadata": {},
   "outputs": [
    {
     "data": {
      "text/plain": [
       "17"
      ]
     },
     "execution_count": 5,
     "metadata": {},
     "output_type": "execute_result"
    }
   ],
   "source": [
    "#This is a simple arithmetic expression to multiply then add numbers\n",
    "(3*4)+5"
   ]
  },
  {
   "cell_type": "code",
   "execution_count": 8,
   "id": "fd26ef66",
   "metadata": {},
   "outputs": [
    {
     "data": {
      "text/plain": [
       "3.3333333333333335"
      ]
     },
     "execution_count": 8,
     "metadata": {},
     "output_type": "execute_result"
    }
   ],
   "source": [
    "#This will convert 200 minutes into hours by dividing by 60\n",
    "\n",
    "200/60"
   ]
  },
  {
   "cell_type": "markdown",
   "id": "28faa8a7",
   "metadata": {},
   "source": [
    "## Author\n",
    "Beverly Chikoore"
   ]
  }
 ],
 "metadata": {
  "kernelspec": {
   "display_name": "Python 3 (ipykernel)",
   "language": "python",
   "name": "python3"
  },
  "language_info": {
   "codemirror_mode": {
    "name": "ipython",
    "version": 3
   },
   "file_extension": ".py",
   "mimetype": "text/x-python",
   "name": "python",
   "nbconvert_exporter": "python",
   "pygments_lexer": "ipython3",
   "version": "3.9.12"
  }
 },
 "nbformat": 4,
 "nbformat_minor": 5
}
